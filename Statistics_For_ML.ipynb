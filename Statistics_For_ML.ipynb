{
 "cells": [
  {
   "cell_type": "markdown",
   "id": "4dfa689e",
   "metadata": {},
   "source": [
    "## Measures of central tendency\n",
    "Mean (Average) → Sum of values ÷ number of values\n",
    "Median → Middle value (sorted data)\n",
    "Mode → Most frequent value"
   ]
  },
  {
   "cell_type": "code",
   "execution_count": 1,
   "id": "9d069d76",
   "metadata": {},
   "outputs": [
    {
     "name": "stdout",
     "output_type": "stream",
     "text": [
      "Mean: 6.666666666666667\n",
      "Median: 6.0\n",
      "Mode: 10\n"
     ]
    }
   ],
   "source": [
    "import numpy as np\n",
    "from statistics import mode\n",
    "\n",
    "data = [2,4,4,4,5,5,7,9,10,10,10,10]\n",
    "\n",
    "mean = np.mean(data)\n",
    "median = np.median(data)\n",
    "mode_value = mode(data)\n",
    "\n",
    "print(\"Mean:\", mean)\n",
    "print(\"Median:\", median)\n",
    "print(\"Mode:\", mode_value)"
   ]
  }
 ],
 "metadata": {
  "kernelspec": {
   "display_name": "Python 3",
   "language": "python",
   "name": "python3"
  },
  "language_info": {
   "codemirror_mode": {
    "name": "ipython",
    "version": 3
   },
   "file_extension": ".py",
   "mimetype": "text/x-python",
   "name": "python",
   "nbconvert_exporter": "python",
   "pygments_lexer": "ipython3",
   "version": "3.13.3"
  }
 },
 "nbformat": 4,
 "nbformat_minor": 5
}
