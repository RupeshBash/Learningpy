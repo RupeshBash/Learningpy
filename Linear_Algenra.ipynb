{
 "cells": [
  {
   "cell_type": "markdown",
   "id": "6155cc4b",
   "metadata": {},
   "source": [
    "# Vector and it's operations"
   ]
  },
  {
   "cell_type": "code",
   "execution_count": null,
   "id": "9479a6d3",
   "metadata": {},
   "outputs": [],
   "source": [
    "import numpy as np\n",
    " \n",
    "a = np.array([2,3,4])\n",
    "b = np.array([5,4,3])\n",
    "\n",
    "print(\"Addition:\", a + b)\n",
    "print(\"Scalar multiplication\", 3 * a)\n",
    "print(\"Dot Product:\", np.dot(a,b))"
   ]
  }
 ],
 "metadata": {
  "language_info": {
   "name": "python"
  }
 },
 "nbformat": 4,
 "nbformat_minor": 5
}
