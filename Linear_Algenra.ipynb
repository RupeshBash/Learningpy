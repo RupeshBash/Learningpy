{
 "cells": [
  {
   "cell_type": "markdown",
   "id": "6155cc4b",
   "metadata": {},
   "source": [
    "# Vector and it's operations"
   ]
  },
  {
   "cell_type": "code",
   "execution_count": 9,
   "id": "9479a6d3",
   "metadata": {},
   "outputs": [
    {
     "name": "stdout",
     "output_type": "stream",
     "text": [
      "Addition: [7 7 7]\n",
      "Scalar multiplication [ 6  9 12]\n",
      "Dot Product: 34\n"
     ]
    }
   ],
   "source": [
    "import numpy as np\n",
    "\n",
    "a = np.array([2,3,4])\n",
    "b = np.array([5,4,3])\n",
    "\n",
    "print(\"Addition:\", a + b)\n",
    "print(\"Scalar multiplication\", 3 * a)\n",
    "print(\"Dot Product:\", np.dot(a,b))"
   ]
  },
  {
   "cell_type": "markdown",
   "id": "d1bed6ed",
   "metadata": {},
   "source": [
    "# Matrix opertaions"
   ]
  },
  {
   "cell_type": "code",
   "execution_count": 10,
   "id": "02c42057",
   "metadata": {},
   "outputs": [
    {
     "name": "stdout",
     "output_type": "stream",
     "text": [
      "Addition:\n",
      " [[3 2]\n",
      " [4 7]]\n",
      "Scalar Multiplication:\n",
      " [[2 4]\n",
      " [6 8]]\n",
      "Matrix Multiplication:\n",
      " [[ 4  6]\n",
      " [10 12]]\n",
      "Transpose:\n",
      " [[1 3]\n",
      " [2 4]]\n"
     ]
    }
   ],
   "source": [
    "A = np.array([[1, 2], [3, 4]])\n",
    "B = np.array([[2, 0], [1, 3]])\n",
    "\n",
    "print(\"Addition:\\n\", A + B)\n",
    "print(\"Scalar Multiplication:\\n\", 2 * A)\n",
    "print(\"Matrix Multiplication:\\n\", np.dot(A, B))\n",
    "print(\"Transpose:\\n\", A.T)"
   ]
  },
  {
   "cell_type": "markdown",
   "id": "308ee36f",
   "metadata": {},
   "source": [
    "# Special matrix"
   ]
  },
  {
   "cell_type": "code",
   "execution_count": 11,
   "id": "53d4b16d",
   "metadata": {},
   "outputs": [
    {
     "name": "stdout",
     "output_type": "stream",
     "text": [
      "Determinant: -2.0000000000000004\n",
      "Inverse:\n",
      " [[-2.   1. ]\n",
      " [ 1.5 -0.5]]\n"
     ]
    }
   ],
   "source": [
    "A = np.array([[1, 2], [3, 4]])\n",
    "print(\"Determinant:\", np.linalg.det(A))\n",
    "print(\"Inverse:\\n\", np.linalg.inv(A))"
   ]
  },
  {
   "cell_type": "markdown",
   "id": "2d325d50",
   "metadata": {},
   "source": [
    "# Grayscale Conversion\n",
    "( Grayscale Image = 2D matrix of pixel intensities (0–255).\n",
    "RGB Image = 3D matrix (Height × Width × 3). )\n",
    "\n",
    "We convert RGB → Gray using a weighted sum (because human eyes see green > red > blue)."
   ]
  },
  {
   "cell_type": "code",
   "execution_count": 12,
   "id": "7e83d4ac",
   "metadata": {},
   "outputs": [
    {
     "name": "stdout",
     "output_type": "stream",
     "text": [
      "Gray Value: 140.74\n"
     ]
    }
   ],
   "source": [
    "pixel = np.array([100, 150, 200]) #R, G, B\n",
    "gray = 0.2989*pixel[0] + 0.5870*pixel[1] + 0.114*pixel[2]\n",
    "print(\"Gray Value:\", gray)"
   ]
  }
 ],
 "metadata": {
  "kernelspec": {
   "display_name": "Python 3",
   "language": "python",
   "name": "python3"
  },
  "language_info": {
   "codemirror_mode": {
    "name": "ipython",
    "version": 3
   },
   "file_extension": ".py",
   "mimetype": "text/x-python",
   "name": "python",
   "nbconvert_exporter": "python",
   "pygments_lexer": "ipython3",
   "version": "3.13.3"
  }
 },
 "nbformat": 4,
 "nbformat_minor": 5
}
