{
 "cells": [
  {
   "cell_type": "markdown",
   "id": "6155cc4b",
   "metadata": {},
   "source": [
    "# Vector and it's operations"
   ]
  },
  {
   "cell_type": "code",
   "execution_count": 4,
   "id": "9479a6d3",
   "metadata": {},
   "outputs": [
    {
     "name": "stdout",
     "output_type": "stream",
     "text": [
      "Addition: [7 7 7]\n",
      "Scalar multiplication [ 6  9 12]\n",
      "Dot Product: 34\n"
     ]
    }
   ],
   "source": [
    "import numpy as np\n",
    "\n",
    "a = np.array([2,3,4])\n",
    "b = np.array([5,4,3])\n",
    "\n",
    "print(\"Addition:\", a + b)\n",
    "print(\"Scalar multiplication\", 3 * a)\n",
    "print(\"Dot Product:\", np.dot(a,b))"
   ]
  },
  {
   "cell_type": "markdown",
   "id": "d1bed6ed",
   "metadata": {},
   "source": [
    "# Matrix opertaions"
   ]
  },
  {
   "cell_type": "code",
   "execution_count": 5,
   "id": "02c42057",
   "metadata": {},
   "outputs": [
    {
     "name": "stdout",
     "output_type": "stream",
     "text": [
      "Addition:\n",
      " [[3 2]\n",
      " [4 7]]\n",
      "Scalar Multiplication:\n",
      " [[2 4]\n",
      " [6 8]]\n",
      "Matrix Multiplication:\n",
      " [[ 4  6]\n",
      " [10 12]]\n",
      "Transpose:\n",
      " [[1 3]\n",
      " [2 4]]\n"
     ]
    }
   ],
   "source": [
    "A = np.array([[1, 2], [3, 4]])\n",
    "B = np.array([[2, 0], [1, 3]])\n",
    "\n",
    "print(\"Addition:\\n\", A + B)\n",
    "print(\"Scalar Multiplication:\\n\", 2 * A)\n",
    "print(\"Matrix Multiplication:\\n\", np.dot(A, B))\n",
    "print(\"Transpose:\\n\", A.T)"
   ]
  }
 ],
 "metadata": {
  "kernelspec": {
   "display_name": "Python 3",
   "language": "python",
   "name": "python3"
  },
  "language_info": {
   "codemirror_mode": {
    "name": "ipython",
    "version": 3
   },
   "file_extension": ".py",
   "mimetype": "text/x-python",
   "name": "python",
   "nbconvert_exporter": "python",
   "pygments_lexer": "ipython3",
   "version": "3.13.3"
  }
 },
 "nbformat": 4,
 "nbformat_minor": 5
}
