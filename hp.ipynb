{
 "cells": [
  {
   "cell_type": "markdown",
   "id": "2eef8642",
   "metadata": {},
   "source": [
    "NumPy: (array basics) Slicing and Indexing "
   ]
  },
  {
   "cell_type": "code",
   "execution_count": 5,
   "id": "3a8df6dd",
   "metadata": {},
   "outputs": [
    {
     "name": "stdout",
     "output_type": "stream",
     "text": [
      "2\n",
      "[2 5 8]\n",
      "[4 5 6]\n"
     ]
    }
   ],
   "source": [
    "import numpy as np\n",
    "\n",
    "mat = np.array([[1,2,3],[4,5,6],[7,8,9]])\n",
    "print(mat[0,1])    # element at row0, col1\n",
    "print(mat[:,1])    # entire 2nd column\n",
    "print(mat[1,:])    # entire 2nd row\n"
   ]
  },
  {
   "cell_type": "code",
   "execution_count": 6,
   "id": "739f0831",
   "metadata": {},
   "outputs": [
    {
     "name": "stdout",
     "output_type": "stream",
     "text": [
      "10\n",
      "50\n",
      "[20 30 40]\n"
     ]
    }
   ],
   "source": [
    "import numpy as np\n",
    "\n",
    "arr = np.array([10, 20, 30, 40, 50])\n",
    "print(arr[0])      # first element\n",
    "print(arr[-1])     # last element\n",
    "print(arr[1:4])    # slicing [start:end]\n"
   ]
  },
  {
   "cell_type": "markdown",
   "id": "cba2a95f",
   "metadata": {},
   "source": [
    "Useful fn"
   ]
  },
  {
   "cell_type": "code",
   "execution_count": 7,
   "id": "8863810c",
   "metadata": {},
   "outputs": [
    {
     "name": "stdout",
     "output_type": "stream",
     "text": [
      "15\n",
      "3.0\n",
      "1.4142135623730951\n",
      "5\n",
      "1\n",
      "0\n",
      "4\n"
     ]
    }
   ],
   "source": [
    "import numpy as np\n",
    "\n",
    "arr = np.array([1,2,3,4,5])\n",
    "\n",
    "print(np.sum(arr))       # sum of elements\n",
    "print(np.mean(arr))      # mean\n",
    "print(np.std(arr))       # standard deviation\n",
    "print(np.max(arr))       # max\n",
    "print(np.min(arr))       # min\n",
    "print(np.argmin(arr))    # index of min\n",
    "print(np.argmax(arr))    # index of max\n"
   ]
  }
 ],
 "metadata": {
  "kernelspec": {
   "display_name": "Python 3",
   "language": "python",
   "name": "python3"
  },
  "language_info": {
   "codemirror_mode": {
    "name": "ipython",
    "version": 3
   },
   "file_extension": ".py",
   "mimetype": "text/x-python",
   "name": "python",
   "nbconvert_exporter": "python",
   "pygments_lexer": "ipython3",
   "version": "3.13.3"
  }
 },
 "nbformat": 4,
 "nbformat_minor": 5
}
