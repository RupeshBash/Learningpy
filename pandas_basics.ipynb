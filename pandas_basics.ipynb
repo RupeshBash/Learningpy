{
 "cells": [
  {
   "cell_type": "markdown",
   "id": "cd199255",
   "metadata": {},
   "source": [
    "Series – 1D labeled array (like a column)"
   ]
  },
  {
   "cell_type": "code",
   "execution_count": 13,
   "id": "5c956e53",
   "metadata": {},
   "outputs": [
    {
     "name": "stdout",
     "output_type": "stream",
     "text": [
      "a    10\n",
      "b    20\n",
      "c    30\n",
      "dtype: int64\n",
      "20\n"
     ]
    }
   ],
   "source": [
    "import pandas as pd\n",
    "\n",
    "s = pd.Series([10, 20,30], index=['a', 'b', 'c'])\n",
    "print(s)\n",
    "print(s['b']) #access by label b"
   ]
  },
  {
   "cell_type": "markdown",
   "id": "2b5551fc",
   "metadata": {},
   "source": [
    "DataFrame: 2D table (rows + columns)"
   ]
  },
  {
   "cell_type": "code",
   "execution_count": 14,
   "id": "f8f0c27d",
   "metadata": {},
   "outputs": [
    {
     "name": "stdout",
     "output_type": "stream",
     "text": [
      "      Name  Age\n",
      "0   Rupesh   23\n",
      "1  Prishma   20\n",
      "2    Ayusm   20\n"
     ]
    }
   ],
   "source": [
    "import pandas as pd\n",
    "\n",
    "data = {\n",
    "    'Name': ['Rupesh', 'Prishma', 'Ayusm'],\n",
    "    'Age': [23, 20, 20]}\n",
    "df = pd.DataFrame(data)\n",
    "print(df)"
   ]
  },
  {
   "cell_type": "markdown",
   "id": "fea8df31",
   "metadata": {},
   "source": [
    " Reading & Writing CSV"
   ]
  },
  {
   "cell_type": "code",
   "execution_count": 15,
   "id": "03889f96",
   "metadata": {},
   "outputs": [
    {
     "name": "stdout",
     "output_type": "stream",
     "text": [
      "Loaded data form CSV:\n",
      "      Name  Age       City\n",
      "0   Rupesh   23  Kathmandu\n",
      "1  Prishma   20   Lalitpur\n",
      "2    Ayusm   20  Bhaktapur\n",
      "Data saved to data_copy.csv successfully.\n"
     ]
    }
   ],
   "source": [
    "import pandas as pd\n",
    "\n",
    "#step1:create a dataframe\n",
    "data = {\n",
    "    'Name': ['Rupesh', 'Prishma', 'Ayusm'],\n",
    "    'Age': [23, 20, 20],\n",
    "    'City': ['Kathmandu', 'Lalitpur', 'Bhaktapur']\n",
    "    }\n",
    "\n",
    "df = pd.DataFrame(data)\n",
    "\n",
    "#step2:save it to a csv file\n",
    "df.to_csv('data.csv', index=False)\n",
    "\n",
    "#step3:read the csv file\n",
    "df_loaded = pd.read_csv('data.csv')\n",
    "\n",
    "#step4:print the loaded dataframe\n",
    "print(\"Loaded data form CSV:\")\n",
    "print(df_loaded)\n",
    "\n",
    "#step5:save again to a new csv file\n",
    "df_loaded.to_csv('data_copy.csv', index=False)\n",
    "print(\"Data saved to data_copy.csv successfully.\")"
   ]
  },
  {
   "cell_type": "markdown",
   "id": "eccf4e8c",
   "metadata": {},
   "source": [
    "Filtering and Selection"
   ]
  },
  {
   "cell_type": "code",
   "execution_count": 16,
   "id": "1a0f20dc",
   "metadata": {},
   "outputs": [
    {
     "name": "stdout",
     "output_type": "stream",
     "text": [
      "full dataframe:\n",
      "      Name  Age       City\n",
      "0   Rupesh   23  Kathmandu\n",
      "1  Prishma   20   Lalitpur\n",
      "2    Ayusm   20  Bhaktapur\n",
      "\n",
      "Name column:\n",
      "0     Rupesh\n",
      "1    Prishma\n",
      "2      Ayusm\n",
      "Name: Name, dtype: object\n",
      "\n",
      "Name and city columns:\n",
      "      Name       City\n",
      "0   Rupesh  Kathmandu\n",
      "1  Prishma   Lalitpur\n",
      "2    Ayusm  Bhaktapur\n",
      "\n",
      " First row (index 0):\n",
      "Name       Rupesh\n",
      "Age            23\n",
      "City    Kathmandu\n",
      "Name: 0, dtype: object\n",
      "Name       Rupesh\n",
      "Age            23\n",
      "City    Kathmandu\n",
      "Name: 0, dtype: object\n",
      "\n",
      "Rows where Age > 20:\n",
      "     Name  Age       City\n",
      "0  Rupesh   23  Kathmandu\n",
      "\n",
      "Rows where Age > 20 and City is Kathmandu:\n",
      "     Name  Age       City\n",
      "0  Rupesh   23  Kathmandu\n",
      "\n",
      "Using query method - Rows where Age > 20:\n",
      "     Name  Age       City\n",
      "0  Rupesh   23  Kathmandu\n"
     ]
    }
   ],
   "source": [
    "#load csv file \n",
    "\n",
    "df = pd.read_csv('data.csv')\n",
    "\n",
    "print(\"full dataframe:\")\n",
    "print(df)\n",
    "\n",
    "#select a single column\n",
    "print(\"\\nName column:\")\n",
    "print(df['Name'])\n",
    "\n",
    "#select multiple columns\n",
    "print(\"\\nName and city columns:\")\n",
    "print(df[['Name', 'City']])\n",
    "\n",
    "#select rows by index\n",
    "print(\"\\n First row (index 0):\")\n",
    "print(df.iloc[0]) #by position\n",
    "print(df.loc[0]) #by label\n",
    "\n",
    "#filter rows based on condition\n",
    "print(\"\\nRows where Age > 20:\")\n",
    "print(df[df['Age'] > 20])\n",
    "\n",
    "#filter rows based on multiple conditions\n",
    "print(\"\\nRows where Age > 20 and City is Kathmandu:\")\n",
    "print(df[(df['Age'] > 20) & (df['City'] == 'Kathmandu')])\n",
    "\n",
    "#query method(shortcut for filtering)\n",
    "print(\"\\nUsing query method - Rows where Age > 20:\")\n",
    "print(df.query('Age > 20'))\n"
   ]
  },
  {
   "cell_type": "markdown",
   "id": "8ca1836f",
   "metadata": {},
   "source": [
    "GroupBy & Aggregation"
   ]
  },
  {
   "cell_type": "code",
   "execution_count": 17,
   "id": "9045d254",
   "metadata": {},
   "outputs": [
    {
     "name": "stdout",
     "output_type": "stream",
     "text": [
      "\n",
      "Average age by city:\n",
      "City\n",
      "Bhaktapur    20.0\n",
      "Kathmandu    23.0\n",
      "Lalitpur     20.0\n",
      "Name: Age, dtype: float64\n",
      "\n",
      "Count by city:\n",
      "City\n",
      "Bhaktapur    1\n",
      "Kathmandu    1\n",
      "Lalitpur     1\n",
      "Name: Name, dtype: int64\n"
     ]
    }
   ],
   "source": [
    "#grouping by city and caluculating average age\n",
    "avg_age_by_city = df.groupby('City')['Age'].mean()\n",
    "\n",
    "#group by city and count people\n",
    "count_by_city = df.groupby('City')['Name'].count()\n",
    "\n",
    "print(\"\\nAverage age by city:\")\n",
    "print(avg_age_by_city)\n",
    "print(\"\\nCount by city:\")\n",
    "print(count_by_city)"
   ]
  }
 ],
 "metadata": {
  "kernelspec": {
   "display_name": "Python 3",
   "language": "python",
   "name": "python3"
  },
  "language_info": {
   "codemirror_mode": {
    "name": "ipython",
    "version": 3
   },
   "file_extension": ".py",
   "mimetype": "text/x-python",
   "name": "python",
   "nbconvert_exporter": "python",
   "pygments_lexer": "ipython3",
   "version": "3.13.3"
  }
 },
 "nbformat": 4,
 "nbformat_minor": 5
}
