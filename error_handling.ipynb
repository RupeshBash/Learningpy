{
 "cells": [
  {
   "cell_type": "markdown",
   "id": "66b17750",
   "metadata": {},
   "source": [
    "Safe Calculator with Error Handling"
   ]
  },
  {
   "cell_type": "code",
   "execution_count": null,
   "id": "01098888",
   "metadata": {},
   "outputs": [
    {
     "name": "stdout",
     "output_type": "stream",
     "text": [
      "Result: Error: cannot divide by zero\n",
      "Result: 1.0\n"
     ]
    }
   ],
   "source": [
    "# fn to safely divide two numbers\n",
    "def divide(a, b):\n",
    "    try:\n",
    "        return a / b \n",
    "    except ZeroDivisionError:  # handles division by zero\n",
    "        return \"Error: cannot divide by zero\"\n",
    "\n",
    "# infinite loop: keeps calculator running\n",
    "while True:\n",
    "    try:\n",
    "        # take user input (float allows decimals)\n",
    "        a = float(input(\"enter first number: \"))\n",
    "        b = float(input(\"enter second number: \"))\n",
    "\n",
    "        # call divide function and show result\n",
    "        print(\"Result:\", divide(a, b))\n",
    "\n",
    "    except ValueError:  # handles invalid (non-numeric) input\n",
    "        print(\"Error: invalid input, please enter numeric values\")\n"
   ]
  }
 ],
 "metadata": {
  "kernelspec": {
   "display_name": "Python 3",
   "language": "python",
   "name": "python3"
  },
  "language_info": {
   "codemirror_mode": {
    "name": "ipython",
    "version": 3
   },
   "file_extension": ".py",
   "mimetype": "text/x-python",
   "name": "python",
   "nbconvert_exporter": "python",
   "pygments_lexer": "ipython3",
   "version": "3.13.3"
  }
 },
 "nbformat": 4,
 "nbformat_minor": 5
}
