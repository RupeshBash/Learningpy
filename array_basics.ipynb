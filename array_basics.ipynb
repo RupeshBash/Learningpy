{
 "cells": [
  {
   "cell_type": "code",
   "execution_count": null,
   "id": "f89b3718",
   "metadata": {},
   "outputs": [],
   "source": [
    "NumPy basics(Array creation)"
   ]
  },
  {
   "cell_type": "code",
   "execution_count": 1,
   "id": "dc59e890",
   "metadata": {},
   "outputs": [
    {
     "name": "stdout",
     "output_type": "stream",
     "text": [
      "[1 3 5 7 9]\n",
      "[[1 2]\n",
      " [3 4]\n",
      " [5 6]]\n",
      "Zeros:\n",
      " [[0. 0. 0. 0.]\n",
      " [0. 0. 0. 0.]\n",
      " [0. 0. 0. 0.]]\n",
      "Ones:\n",
      " [[1. 1. 1.]\n",
      " [1. 1. 1.]]\n",
      "Random:\n",
      " [[0.30156067 0.14091176 0.54545484]\n",
      " [0.43467967 0.18753292 0.41538335]]\n"
     ]
    }
   ],
   "source": [
    "import numpy as np\n",
    "\n",
    "#1D array \n",
    "arr1 = np.array([1,3,5,7,9])\n",
    "print(arr1)\n",
    "\n",
    "#2D array\n",
    "arr2 = np.array([[1,2],[3,4],[5,6]])\n",
    "print(arr2)\n",
    "\n",
    "#special arrays\n",
    "zeros = np.zeros((3,4)) #3 rows, 4 columns 2*3 zeros\n",
    "ones = np.ones((2,3)) #2 rows, 3 columns 2*3 ones\n",
    "rand = np.random.rand(2,3) #2 rows, 3 columns 2*3 random values between 0 and 1\n",
    "\n",
    "print(\"Zeros:\\n\", zeros)\n",
    "print(\"Ones:\\n\", ones)      \n",
    "print(\"Random:\\n\", rand)"
   ]
  }
 ],
 "metadata": {
  "kernelspec": {
   "display_name": "Python 3",
   "language": "python",
   "name": "python3"
  },
  "language_info": {
   "codemirror_mode": {
    "name": "ipython",
    "version": 3
   },
   "file_extension": ".py",
   "mimetype": "text/x-python",
   "name": "python",
   "nbconvert_exporter": "python",
   "pygments_lexer": "ipython3",
   "version": "3.13.3"
  }
 },
 "nbformat": 4,
 "nbformat_minor": 5
}
